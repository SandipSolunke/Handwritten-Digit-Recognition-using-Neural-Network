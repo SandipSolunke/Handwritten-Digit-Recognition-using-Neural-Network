{
  "cells": [
    {
      "cell_type": "markdown",
      "metadata": {
        "id": "view-in-github",
        "colab_type": "text"
      },
      "source": [
        "<a href=\"https://colab.research.google.com/github/SandipSolunke/Handwritten-Digit-Recognition-using-Neural-Network/blob/master/main.ipynb\" target=\"_parent\"><img src=\"https://colab.research.google.com/assets/colab-badge.svg\" alt=\"Open In Colab\"/></a>"
      ]
    },
    {
      "cell_type": "markdown",
      "metadata": {
        "id": "nXzpejASDlHY"
      },
      "source": [
        "# **Handwritten Digit Recognition using Neural Network**"
      ]
    },
    {
      "cell_type": "code",
      "execution_count": null,
      "metadata": {
        "id": "twjcpxkBDldQ"
      },
      "outputs": [],
      "source": [
        "import matplotlib.pyplot as plt\n",
        "import numpy as np\n",
        "import pandas as pd"
      ]
    },
    {
      "cell_type": "code",
      "execution_count": null,
      "metadata": {
        "id": "qR4LEcjoDunM"
      },
      "outputs": [],
      "source": [
        "#importing data\n",
        "df=pd.read_csv(\"/content/drive/MyDrive/Colab Notebooks/Deep Learning/Handwritten Digit Recognition /train.csv\")\n",
        "\n",
        "#splitting data into training and testing dataa\n",
        "train_data=df.iloc[8400:,:]\n",
        "test_data=df.iloc[:8400,:]\n",
        "\n",
        "#separating input and output data\n",
        "x_train=np.array(train_data.iloc[:,1:])\n",
        "y_train=np.array(train_data.iloc[:,:1])\n",
        "\n",
        "x_test=np.array(test_data.iloc[:,1:])\n",
        "y_test=np.array(test_data.iloc[:,:1])"
      ]
    },
    {
      "cell_type": "code",
      "execution_count": null,
      "metadata": {
        "id": "FYQfsiS8QsGX"
      },
      "outputs": [],
      "source": [
        "#one hot encoding \n",
        "maxvalue=y_train.max()+1\n",
        "y_train_ohc=np.eye(maxvalue)[y_train]"
      ]
    },
    {
      "cell_type": "code",
      "execution_count": null,
      "metadata": {
        "id": "SmguvxA_TKKb"
      },
      "outputs": [],
      "source": [
        "#scaling data using min-max scaling\n",
        "x_train_norm = (x_train-np.min(x_train))/(np.max(x_train)-np.min(x_train))\n",
        "x_test_norm=x_test/255"
      ]
    },
    {
      "cell_type": "code",
      "execution_count": null,
      "metadata": {
        "id": "dXr5wGHso8ab"
      },
      "outputs": [],
      "source": [
        "#function to calculate mean squared error\n",
        "def MSE(y_pred,y_true):\n",
        "  error=0\n",
        "  for i in range(y_true.size):\n",
        "    error+=(y_true[i]-y_pred[i])**2\n",
        "  error/=y_true.size\n",
        "\n",
        "  return error\n",
        "\n",
        "#activation functions\n",
        "def Sigmoid(net):\n",
        "  return 1/(1+np.exp(-net))\n",
        "\n",
        "def Relu(x):\n",
        "    return x * (x > 0)\n",
        "\n",
        "#deravative of ReLU\n",
        "def der_Relu(x):\n",
        "    return 1. * (x > 0)"
      ]
    },
    {
      "cell_type": "code",
      "source": [
        "#function to calculate accuracy\n",
        "def Accuracy(x,y):\n",
        "  counter=0\n",
        "  for i in range(x.size):\n",
        "    if(int(x[i])==int(y[i])):\n",
        "      counter+=1\n",
        "  \n",
        "  return (counter/x.size)*100"
      ],
      "metadata": {
        "id": "UVSr2WMDoxLc"
      },
      "execution_count": null,
      "outputs": []
    },
    {
      "cell_type": "code",
      "source": [
        "#function to train model\n",
        "def train(x_train,w_ih,w_ho,y_train,epochs,c):\n",
        "  for i in range(epochs):\n",
        "    for (x,y) in zip(x_train,y_train):\n",
        "\n",
        "      ##Forward Propagation\n",
        "      #hidden layer\n",
        "      net_h=np.matmul(w_ih,x)\n",
        "      output_h=Relu(net_h)\n",
        "\n",
        "      #output layer\n",
        "      net_o=np.matmul(w_ho,output_h)\n",
        "      output_o=Sigmoid(net_o)\n",
        "\n",
        "      #Back Propagation\n",
        "      #cost\n",
        "      cost=MSE(output_o,y[0])\n",
        "\n",
        "      #error\n",
        "      error_o=y[0]-output_o\n",
        "      error_h=np.matmul(error_o,w_ho)\n",
        "\n",
        "      output_o=np.array([output_o])\n",
        "      error_o=np.array([error_o])\n",
        "      error_h=np.array([error_h])\n",
        "\n",
        "      #calculating delta_w\n",
        "      der_o=np.multiply(output_o,1-output_o)\n",
        "      der_h=der_Relu(output_h)\n",
        "\n",
        "      param_o=c*der_o*error_o\n",
        "      param_h=c*der_h*error_h\n",
        "\n",
        "      dw_ho=np.matmul(param_o.transpose(),np.array([output_h]))\n",
        "      dw_ih=np.matmul(param_h.transpose(),np.array([x]))\n",
        "\n",
        "      #updating weights\n",
        "      w_ho=dw_ho+w_ho\n",
        "      w_ih=dw_ih+w_ih\n",
        "      \n",
        "  return w_ih,w_ho\n"
      ],
      "metadata": {
        "id": "R6LJWVk1tUSx"
      },
      "execution_count": null,
      "outputs": []
    },
    {
      "cell_type": "code",
      "source": [
        "#Initalizing Wights with random numbers\n",
        "w_ih=np.random.randn(350, 784)\n",
        "w_ho=np.random.randn(10,350)\n",
        "\n",
        "epochs=10\n",
        "c=0.05\n",
        "w1,w2=train(x_train_norm,w_ih,w_ho,y_train_ohc,epochs,c)"
      ],
      "metadata": {
        "colab": {
          "base_uri": "https://localhost:8080/"
        },
        "id": "8hgX3rYLwS5G",
        "outputId": "458718a6-9d06-4fe5-e870-9613fe92de06"
      },
      "execution_count": null,
      "outputs": [
        {
          "output_type": "stream",
          "name": "stderr",
          "text": [
            "/usr/local/lib/python3.7/dist-packages/ipykernel_launcher.py:12: RuntimeWarning: overflow encountered in exp\n",
            "  if sys.path[0] == '':\n"
          ]
        }
      ]
    },
    {
      "cell_type": "code",
      "source": [
        "#function to predict output\n",
        "def predict(x,w1,w2):\n",
        "  n=int(x.size/x[0].size)\n",
        "  y_pred=np.zeros(n)\n",
        "  for i in range(n):\n",
        "\n",
        "    net1=np.matmul(w1,x[i])\n",
        "    output1=np.zeros(net1.size)\n",
        "    for j in range(net1.size):\n",
        "      output1[j]=Relu(net1[j])\n",
        "\n",
        "    net2=np.matmul(w2,output1)\n",
        "\n",
        "    output2=np.zeros(net2.size)\n",
        "    for k in range(net2.size):\n",
        "      output2[k]=Sigmoid(net2[k])\n",
        "    \n",
        "    y_pred[i]=np.argmax(output2)\n",
        "\n",
        "  return y_pred"
      ],
      "metadata": {
        "id": "ZCL4qTpE8CEm"
      },
      "execution_count": null,
      "outputs": []
    },
    {
      "cell_type": "code",
      "source": [
        "y_pred=predict(x_train_norm,w1,w2)\n",
        "print(\"Accuracy of model over training data :\",Accuracy(y_train,y_pred))\n",
        "\n",
        "y_pred=predict(x_test_norm,w1,w2)\n",
        "print(\"Accuracy of model over testing data :\",Accuracy(y_test,y_pred))"
      ],
      "metadata": {
        "colab": {
          "base_uri": "https://localhost:8080/"
        },
        "id": "dk6-bBMQ1hrA",
        "outputId": "0d68ad47-9a1d-4aed-e6bf-a526ede05bc1"
      },
      "execution_count": null,
      "outputs": [
        {
          "output_type": "stream",
          "name": "stdout",
          "text": [
            "Accuracy of model over training data : 97.60714285714286\n",
            "Accuracy of model over testing data : 94.65476190476191\n"
          ]
        }
      ]
    },
    {
      "cell_type": "code",
      "source": [
        "#sample prediction\n",
        "x=25\n",
        "print(\"Prediction :\",int(y_pred[x]))\n",
        "print(\"True Result :\",int(y_test[x]))\n",
        "plt.imshow(x_test[x].reshape(28,28))"
      ],
      "metadata": {
        "colab": {
          "base_uri": "https://localhost:8080/",
          "height": 317
        },
        "id": "aqLNXSwyVKVz",
        "outputId": "2c3fbcbb-e2c9-4a7a-a2e2-b1f865926462"
      },
      "execution_count": null,
      "outputs": [
        {
          "output_type": "stream",
          "name": "stdout",
          "text": [
            "Prediction : 3\n",
            "True Result : 3\n"
          ]
        },
        {
          "output_type": "execute_result",
          "data": {
            "text/plain": [
              "<matplotlib.image.AxesImage at 0x7f80e370cf90>"
            ]
          },
          "metadata": {},
          "execution_count": 14
        },
        {
          "output_type": "display_data",
          "data": {
            "text/plain": [
              "<Figure size 432x288 with 1 Axes>"
            ],
            "image/png": "[encoded data removed]"
          },
          "metadata": {
            "needs_background": "light"
          }
        }
      ]
    }
  ],
  "metadata": {
    "colab": {
      "provenance": [],
      "mount_file_id": "1Wf4uoj-fwa5y_K3nKLPW_aPMS5pB3oNJ",
      "authorship_tag": "ABX9TyOU/wo5XbZKMm83TkEZ0FrM",
      "include_colab_link": true
    },
    "kernelspec": {
      "display_name": "Python 3",
      "name": "python3"
    },
    "language_info": {
      "name": "python"
    }
  },
  "nbformat": 4,
  "nbformat_minor": 0
}